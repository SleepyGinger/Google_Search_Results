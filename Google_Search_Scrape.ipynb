{
 "cells": [
  {
   "cell_type": "code",
   "execution_count": 1,
   "metadata": {
    "collapsed": false
   },
   "outputs": [
    {
     "name": "stdout",
     "output_type": "stream",
     "text": [
      "Search: new york times\n",
      "Number of results: 10\n"
     ]
    },
    {
     "data": {
      "text/plain": [
       "{}"
      ]
     },
     "execution_count": 1,
     "metadata": {},
     "output_type": "execute_result"
    }
   ],
   "source": [
    "from BeautifulSoup import BeautifulSoup\n",
    "import urllib, urllib2\n",
    "import re\n",
    "import csv\n",
    "\n",
    "def count(num):\n",
    "    i=0\n",
    "    d=0\n",
    "    while i<num:\n",
    "        i=i+1\n",
    "        if i%10==1:\n",
    "            d+=1\n",
    "        f = open('Exports/%s.csv' % (search) , 'a')\n",
    "        writer=csv.writer(f)\n",
    "        writer.writerow((d,i))\n",
    "        f.close()\n",
    "    \n",
    "\n",
    "def google(query,number):\n",
    "    \n",
    "    #opens url and saves html\n",
    "    address = \"http://www.google.com/search?q=%s&num=%d&hl=en&start=0&pws=0\" % (urllib.quote_plus(query),number)\n",
    "    request = urllib2.Request(address, None, {'User-Agent':'Mosilla/5.0 (Macintosh; Intel Mac OS X 10_7_4) AppleWebKit/536.11 (KHTML, like Gecko) Chrome/20.0.1132.57 Safari/536.11'})\n",
    "    urlfile = urllib2.urlopen(request)\n",
    "    page = urlfile.read()\n",
    "    soup = BeautifulSoup(page)\n",
    "    \n",
    "    position=0\n",
    "    page=0\n",
    "\n",
    "    linkdictionary = {}\n",
    "\n",
    "    for li in soup.findAll('div', attrs={'class':'g'}):\n",
    "        \n",
    "        #finds title, link and span\n",
    "        sTitle = str(li.find ('a'))\n",
    "        sLink = li.find('a')\n",
    "        sSpan = str(li.find('span', attrs={'class':'st'}))\n",
    "        \n",
    "        #takes out tags\n",
    "        p = re.compile(r'(<.*?>)')\n",
    "        \n",
    "        title =  p.sub('',str(sTitle)).replace('&#39;',\"'\").replace('&amp;','&').replace('&nbsp;',' ').replace('&quot;','\"')\n",
    "        #title = BeautifulSoup(sTitle,convertEntities=BeautifulSoup.HTML_ENTITIES)\n",
    "        link = sLink['href']\n",
    "        desc = p.sub('',str(sSpan)).replace('&#39;',\"'\").replace('&amp;','&').replace('&nbsp;',' ').replace('&quot;','\"')\n",
    "        #desc = BeautifulSoup(sSpan,convertEntities=BeautifulSoup.HTML_ENTITIES)\n",
    "        \n",
    "        position=position+1\n",
    "\n",
    "        if position%10==2:\n",
    "            page+=1\n",
    "    \n",
    "        #writes to csv\n",
    "        f = open ('Exports/%s.csv' % (re.sub('\"', '', search)), 'a') \n",
    "        writer=csv.writer(f)\n",
    "        writer.writerow((page, position, title, link, desc))\n",
    "        f.close()\n",
    "        \n",
    "    return linkdictionary\n",
    "\n",
    "#sets up csv titles\n",
    "search=raw_input('Search: ')\n",
    "with open ('Exports/%s.csv' % (re.sub('\"', '', search)), 'a') as f:\n",
    "    writer=csv.writer(f)\n",
    "    writer.writerow(('Page', 'Position', 'Title', 'Link', 'Description'))\n",
    "#asks for search term and # of them/runs google function\n",
    "number=int(raw_input('Number of results: '))\n",
    "google(search,number)\n"
   ]
  },
  {
   "cell_type": "code",
   "execution_count": null,
   "metadata": {
    "collapsed": true
   },
   "outputs": [],
   "source": []
  }
 ],
 "metadata": {
  "kernelspec": {
   "display_name": "Python 2",
   "language": "python",
   "name": "python2"
  },
  "language_info": {
   "codemirror_mode": {
    "name": "ipython",
    "version": 2
   },
   "file_extension": ".py",
   "mimetype": "text/x-python",
   "name": "python",
   "nbconvert_exporter": "python",
   "pygments_lexer": "ipython2",
   "version": "2.7.13"
  }
 },
 "nbformat": 4,
 "nbformat_minor": 0
}
